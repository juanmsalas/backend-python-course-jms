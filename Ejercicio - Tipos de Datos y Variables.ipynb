{
 "cells": [
  {
   "cell_type": "code",
   "execution_count": 23,
   "id": "03ffc262",
   "metadata": {},
   "outputs": [
    {
     "name": "stdout",
     "output_type": "stream",
     "text": [
      "Selecciona una operación (+, -, *, /, **)/\n",
      "Ingresa dos números para la operación separados por coma: 0xf,5\n",
      "Los números para realizara la operación son:  15 , 5\n",
      "La operación a realizar es:  /\n",
      "El resultado de la operación es:  3.0\n"
     ]
    }
   ],
   "source": [
    "from ast import literal_eval\n",
    "\n",
    "operacion = input(\"Selecciona una operación (+, -, *, /, **)\")\n",
    "num1, num2 = input(\"Ingresa dos números para la operación separados por coma: \").split(\",\")\n",
    "num1 = literal_eval(num1)\n",
    "num2 = literal_eval(num2)\n",
    "\n",
    "if operacion == \"+\":\n",
    "    result = num1 + num2\n",
    "elif operacion == \"-\":\n",
    "    result = num1 - num2\n",
    "elif operacion == \"*\":\n",
    "    result = num1 * num2\n",
    "elif operacion == \"/\":\n",
    "    result = num1 / num2\n",
    "elif operacion == \"**\":\n",
    "    result = num1 ** num2\n",
    "        \n",
    "print(\"Los números para realizara la operación son: \",num1,\",\",num2)\n",
    "print(\"La operación a realizar es: \", operacion)\n",
    "print(\"El resultado de la operación es: \", result)"
   ]
  },
  {
   "cell_type": "code",
   "execution_count": null,
   "id": "824363ea",
   "metadata": {},
   "outputs": [],
   "source": []
  },
  {
   "cell_type": "code",
   "execution_count": null,
   "id": "61741797",
   "metadata": {},
   "outputs": [],
   "source": []
  }
 ],
 "metadata": {
  "kernelspec": {
   "display_name": "Python 3 (ipykernel)",
   "language": "python",
   "name": "python3"
  },
  "language_info": {
   "codemirror_mode": {
    "name": "ipython",
    "version": 3
   },
   "file_extension": ".py",
   "mimetype": "text/x-python",
   "name": "python",
   "nbconvert_exporter": "python",
   "pygments_lexer": "ipython3",
   "version": "3.9.13"
  }
 },
 "nbformat": 4,
 "nbformat_minor": 5
}
