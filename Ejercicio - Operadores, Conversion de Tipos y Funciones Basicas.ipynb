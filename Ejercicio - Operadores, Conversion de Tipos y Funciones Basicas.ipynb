{
 "cells": [
  {
   "cell_type": "code",
   "execution_count": 33,
   "id": "fa08cd10",
   "metadata": {},
   "outputs": [
    {
     "name": "stdout",
     "output_type": "stream",
     "text": [
      "Selecciona una operación (+, -, *, /, **): /\n",
      "Ingresa 5 números como lista, set o diccionario: {1,2,3,e,5}\n",
      "\n",
      "Entrada inválida. Por favor captura una lista, un set o un diccionario.\n"
     ]
    }
   ],
   "source": [
    "from ast import literal_eval\n",
    "\n",
    "def get_type(input_data):\n",
    "    try:\n",
    "        return type(literal_eval(input_data))\n",
    "    except (ValueError, SyntaxError):\n",
    "        return str\n",
    "    \n",
    "def calculate(operacion, num1, num2, num3, num4, num5):\n",
    "    global result\n",
    "    try:\n",
    "        if operacion == \"+\":\n",
    "            result = num1 + num2 + num3 + num4 + num5\n",
    "        elif operacion == \"-\":\n",
    "            result = num1 - num2 - num3 - num4 - num5\n",
    "        elif operacion == \"*\":\n",
    "            result = num1 * num2 * num3 * num4 * num5\n",
    "        elif operacion == \"/\":\n",
    "            result = num1 / num2 / num3 / num4 / num5\n",
    "        elif operacion == \"**\":\n",
    "            result = (((num1 ** num2) ** num3) ** num4) ** num5\n",
    "        return True\n",
    "    except (ValueError, SyntaxError):\n",
    "        return false\n",
    "\n",
    "    \n",
    "def print_result(n1, n2, n3, n4, n5):\n",
    "    print(\"Los datos de entrada son: \", n1,\",\",n2,\",\",n3,\",\",n4,\",\",n5)\n",
    "    print(\"La operación a realizar es:\", operacion)\n",
    "    print(\"El resultado de la operación es: \", result)\n",
    "        \n",
    "\n",
    "operacion = input(\"Selecciona una operación (+, -, *, /, **): \")\n",
    "datos = input(\"Ingresa 5 números como lista, set o diccionario: \")\n",
    "result = 0\n",
    "\n",
    "\n",
    "if operacion not in ['+', '-', '*', '/', '**']:\n",
    "    print(\"\\nPor favor selecciona una operación +, -, *, / ó **\")\n",
    "else:\n",
    "    if get_type(datos) in [list, set, dict]:\n",
    "        datos = literal_eval(datos)\n",
    "        no_items = len(datos)\n",
    "    else:\n",
    "        print(\"\\nEntrada inválida. Por favor captura una lista, un set o un diccionario.\")\n",
    "        \n",
    "if no_items != 5:\n",
    "    print(\"Tamaño inválido en la entrada.\")\n",
    "    \n",
    "elif type(datos) == list:\n",
    "    ok = calculate(operacion, datos[0], datos[1], datos[2], datos[3], datos[4])\n",
    "    if ok: print_result(datos[0], datos[1], datos[2], datos[3], datos[4])\n",
    "    else: print(\"Entrada Inválida\")\n",
    "\n",
    "elif type(datos) == set:\n",
    "    ok = calculate(operacion, list(datos)[0], list(datos)[1], list(datos)[2], list(datos)[3], list(datos)[4])\n",
    "    if ok: print_result(list(datos)[0], list(datos)[1], list(datos)[2], list(datos)[3], list(datos)[4])\n",
    "    else: print(\"Entrada Inválida\")\n",
    "\n",
    "elif type(datos) == dict:\n",
    "    ok = calculate(operacion, datos[list(datos)[0]], datos[list(datos)[1]], datos[list(datos)[2]], datos[list(datos)[3]], datos[list(datos)[4]])\n",
    "    if ok: print_result(datos[list(datos)[0]], datos[list(datos)[1]], datos[list(datos)[2]], datos[list(datos)[3]], datos[list(datos)[4]])\n",
    "    else: print(\"Entrada Inválida\")\n"
   ]
  },
  {
   "cell_type": "code",
   "execution_count": null,
   "id": "e6a66e05",
   "metadata": {},
   "outputs": [],
   "source": []
  },
  {
   "cell_type": "code",
   "execution_count": null,
   "id": "a873bd9f",
   "metadata": {},
   "outputs": [],
   "source": []
  },
  {
   "cell_type": "code",
   "execution_count": null,
   "id": "59b81f42",
   "metadata": {},
   "outputs": [],
   "source": []
  }
 ],
 "metadata": {
  "kernelspec": {
   "display_name": "Python 3 (ipykernel)",
   "language": "python",
   "name": "python3"
  },
  "language_info": {
   "codemirror_mode": {
    "name": "ipython",
    "version": 3
   },
   "file_extension": ".py",
   "mimetype": "text/x-python",
   "name": "python",
   "nbconvert_exporter": "python",
   "pygments_lexer": "ipython3",
   "version": "3.9.13"
  }
 },
 "nbformat": 4,
 "nbformat_minor": 5
}
