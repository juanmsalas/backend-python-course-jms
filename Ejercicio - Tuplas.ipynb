{
 "cells": [
  {
   "cell_type": "code",
   "execution_count": 19,
   "id": "f9953cf7",
   "metadata": {},
   "outputs": [
    {
     "name": "stdout",
     "output_type": "stream",
     "text": [
      "Lista de Reproducción\n",
      "\n",
      "Ingresa la palabra que te gustaría\n",
      "Ejemplo: 'rock', y obtendrás un playlist de canciones o artistas que incluyan la palabra rock\n",
      "Country\n",
      "('Country Girl (Shake It For Me)', 'Luke Bryan')\n",
      "('Country Again', 'Thomas Rhett')\n",
      "('Country On', 'Luke Bryan')\n",
      "('Country', 'Niska')\n",
      "('Country', 'XXbando')\n",
      "('Country Grammar (Hot Shit)', 'Nelly')\n",
      "('Take Me Home, Country Roads', 'John Denver')\n",
      "(\"God's Country\", 'Blake Shelton')\n",
      "('Country Boy', 'Alan Jackson')\n",
      "('Country Song', 'Seether')\n",
      "('Country Grammar (Hot Shit)', 'Nelly')\n",
      "('Country Roads (Radio Version)', 'Hermes House Band')\n",
      "('Like I Love Country Music', 'Kane Brown')\n",
      "('Country A$$ Shit', 'Morgan Wallen')\n",
      "('Catholic Country', 'Kings Of Convenience')\n",
      "('Country House', 'Blur')\n",
      "('Gone Country', 'Alan Jackson')\n",
      "('Bat Country', 'Avenged Sevenfold')\n",
      "('Chemtrails Over The Country Club', 'Lana Del Rey')\n",
      "('Country Road', 'James Taylor')\n",
      "('Dancin’ In The Country', 'Tyler Hubbard')\n",
      "('Country', 'Upchurch')\n",
      "('Country Stuff (feat. Jake Owen)', 'Walker Hayes')\n",
      "(\"All Your'n\", 'Tyler Childers')\n",
      "('Country Must Be Country Wide', 'Brantley Gilbert')\n"
     ]
    }
   ],
   "source": [
    "import requests\n",
    "\n",
    "print(\"Lista de Reproducción\\n\")\n",
    "\n",
    "# Referencia: https://www.deezer.com/en/channels/explore\n",
    "\n",
    "print(\"Ingresa la palabra que te gustaría\")\n",
    "print(\"Ejemplo: 'rock', y obtendrás un playlist de canciones o artistas que incluyan la palabra rock\")\n",
    "      \n",
    "word_to_search = input()\n",
    "      \n",
    "url = \"https://deezerdevs-deezer.p.rapidapi.com/search\"\n",
    "querystring = {\"q\":word_to_search}\n",
    "      \n",
    "headers = {\n",
    "\"X-RapidAPI-Key\": \"3ed98f551fmshe4e6260228c4eadp13db17jsn8c893e1194da\",\n",
    "\"X-RapidAPI-Host\": \"deezerdevs-deezer.p.rapidapi.com\"\n",
    "}\n",
    "\n",
    "my_list = []\n",
    "      \n",
    "response = requests.request(\"GET\", url, headers=headers, params=querystring).json()\n",
    "for element in response['data']:\n",
    "    my_list.append((element['title'], element['artist']['name']))\n",
    "\n",
    "#print(my_list, \"\\n\")\n",
    "\n",
    "my_tuple = tuple(my_list)\n",
    "#print(my_tuple)\n",
    "\n",
    "for tup in my_tuple:\n",
    "    print(tup)"
   ]
  },
  {
   "cell_type": "code",
   "execution_count": null,
   "id": "769716b8",
   "metadata": {},
   "outputs": [],
   "source": []
  }
 ],
 "metadata": {
  "kernelspec": {
   "display_name": "Python 3 (ipykernel)",
   "language": "python",
   "name": "python3"
  },
  "language_info": {
   "codemirror_mode": {
    "name": "ipython",
    "version": 3
   },
   "file_extension": ".py",
   "mimetype": "text/x-python",
   "name": "python",
   "nbconvert_exporter": "python",
   "pygments_lexer": "ipython3",
   "version": "3.9.13"
  }
 },
 "nbformat": 4,
 "nbformat_minor": 5
}
