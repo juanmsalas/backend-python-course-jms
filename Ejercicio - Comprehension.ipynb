{
 "cells": [
  {
   "cell_type": "code",
   "execution_count": 33,
   "id": "2b4a5159",
   "metadata": {},
   "outputs": [
    {
     "name": "stdout",
     "output_type": "stream",
     "text": [
      "Lista de Reproducción\n",
      "\n",
      "Ingresa la palabra que te gustaría\n",
      "Ejemplo: 'rock', y obtendrás un playlist de canciones o artistas que incluyan la palabra rock\n",
      "Country\n",
      "[{'artista': 'XXbando', 'canción': 'Country'}, {'artista': 'Luke Bryan', 'canción': 'Country On'}, {'artista': 'Thomas Rhett', 'canción': 'Country Again'}, {'artista': 'Blake Shelton', 'canción': \"God's Country\"}, {'artista': 'John Denver', 'canción': 'Take Me Home, Country Roads (Original Version)'}, {'artista': 'LoCash Cowboys', 'canción': 'C.O.U.N.T.R.Y.'}, {'artista': 'Walker Hayes', 'canción': 'Country Stuff (feat. Jake Owen)'}, {'artista': 'Nelly', 'canción': 'Country Grammar (Hot Shit)'}, {'artista': 'Seether', 'canción': 'Country Song'}, {'artista': 'Morgan Wallen', 'canción': 'Country A$$ Shit'}, {'artista': 'Lynyrd Skynyrd', 'canción': \"I'm a Country Boy (live)\"}, {'artista': 'Tyler Hubbard', 'canción': 'Dancin’ In The Country'}, {'artista': \"Mike O'Leary\", 'canción': 'COUNTY'}, {'artista': 'Kane Brown', 'canción': 'Like I Love Country Music'}, {'artista': 'Avenged Sevenfold', 'canción': 'Bat Country'}, {'artista': 'SZA', 'canción': 'Country'}, {'artista': 'Niska', 'canción': 'Country'}, {'artista': 'Lana Del Rey', 'canción': 'Chemtrails Over The Country Club'}, {'artista': 'Alex G', 'canción': 'County'}, {'artista': 'Kings Of Convenience', 'canción': 'Catholic Country'}, {'artista': 'Patricia Moreno', 'canción': 'No Country'}, {'artista': 'Porches', 'canción': 'Country'}, {'artista': 'Luke Bryan', 'canción': 'Country Girl (Shake It For Me)'}, {'artista': 'Lion P', 'canción': 'Country'}, {'artista': 'Country Studio Crew', 'canción': 'The Thunder Rolls'}]\n"
     ]
    }
   ],
   "source": [
    "import requests\n",
    "\n",
    "print(\"Lista de Reproducción\\n\")\n",
    "\n",
    "# Referencia: https://www.deezer.com/en/channels/explore\n",
    "\n",
    "print(\"Ingresa la palabra que te gustaría\")\n",
    "print(\"Ejemplo: 'rock', y obtendrás un playlist de canciones o artistas que incluyan la palabra rock\")\n",
    "      \n",
    "word_to_search = input()\n",
    "      \n",
    "url = \"https://deezerdevs-deezer.p.rapidapi.com/search\"\n",
    "querystring = {\"q\":word_to_search}\n",
    "headers = {\n",
    "\"X-RapidAPI-Key\": \"3ed98f551fmshe4e6260228c4eadp13db17jsn8c893e1194da\",\n",
    "\"X-RapidAPI-Host\": \"deezerdevs-deezer.p.rapidapi.com\"\n",
    "}\n",
    "response = requests.request(\"GET\", url, headers=headers, params=querystring).json()\n",
    "\n",
    "my_list = [{\"artista\":element['artist']['name'], \"canción\": element['title']} for element in response['data']]\n",
    "\n",
    "print(my_list)"
   ]
  },
  {
   "cell_type": "code",
   "execution_count": null,
   "id": "e92495d8",
   "metadata": {},
   "outputs": [],
   "source": []
  }
 ],
 "metadata": {
  "kernelspec": {
   "display_name": "Python 3 (ipykernel)",
   "language": "python",
   "name": "python3"
  },
  "language_info": {
   "codemirror_mode": {
    "name": "ipython",
    "version": 3
   },
   "file_extension": ".py",
   "mimetype": "text/x-python",
   "name": "python",
   "nbconvert_exporter": "python",
   "pygments_lexer": "ipython3",
   "version": "3.9.13"
  }
 },
 "nbformat": 4,
 "nbformat_minor": 5
}
