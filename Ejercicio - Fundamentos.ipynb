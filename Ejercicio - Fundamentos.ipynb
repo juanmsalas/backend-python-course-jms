{
 "cells": [
  {
   "cell_type": "code",
   "execution_count": 10,
   "id": "fe9ec819",
   "metadata": {},
   "outputs": [
    {
     "name": "stdout",
     "output_type": "stream",
     "text": [
      "Please enter an int number: 5\n",
      "Please enter a float number: 7.8\n",
      "Please enter a string: hola\n",
      "El tipo de dato de int_var es:  <class 'int'>\n",
      "El tipo de dato de float_var es:  <class 'float'>\n",
      "El tipo de dato de string_var es:  <class 'str'>\n",
      "El valor de int_var es:  5\n",
      "El valor de float_var es:  7.8\n",
      "El valor de string_var es:  hola\n"
     ]
    }
   ],
   "source": [
    "int_var = input(\"Please enter an int number: \")\n",
    "int_var = int(int_var)\n",
    "float_var = input(\"Please enter a float number: \")\n",
    "float_var = float(float_var)\n",
    "string_var = input(\"Please enter a string: \")\n",
    "print(\"El tipo de dato de int_var es: \", type(int_var))\n",
    "print(\"El tipo de dato de float_var es: \", type(float_var))\n",
    "print(\"El tipo de dato de string_var es: \", type(string_var))\n",
    "print(\"El valor de int_var es: \", int_var)\n",
    "print(\"El valor de float_var es: \", float_var)\n",
    "print(\"El valor de string_var es: \", string_var)"
   ]
  },
  {
   "cell_type": "code",
   "execution_count": null,
   "id": "8bfb2e2b",
   "metadata": {},
   "outputs": [],
   "source": []
  }
 ],
 "metadata": {
  "kernelspec": {
   "display_name": "Python 3 (ipykernel)",
   "language": "python",
   "name": "python3"
  },
  "language_info": {
   "codemirror_mode": {
    "name": "ipython",
    "version": 3
   },
   "file_extension": ".py",
   "mimetype": "text/x-python",
   "name": "python",
   "nbconvert_exporter": "python",
   "pygments_lexer": "ipython3",
   "version": "3.9.13"
  }
 },
 "nbformat": 4,
 "nbformat_minor": 5
}
