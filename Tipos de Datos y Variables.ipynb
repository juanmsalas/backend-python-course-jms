{
 "cells": [
  {
   "cell_type": "markdown",
   "id": "b0a45fef",
   "metadata": {},
   "source": [
    "## Panorama"
   ]
  },
  {
   "cell_type": "code",
   "execution_count": 1,
   "id": "79a6a36c",
   "metadata": {},
   "outputs": [
    {
     "name": "stdout",
     "output_type": "stream",
     "text": [
      "El valor de my_float es:  11.0\n",
      "El tipo de datos de my_float es:  <class 'float'>\n"
     ]
    }
   ],
   "source": [
    "my_float = 11.\n",
    "print(\"El valor de my_float es: \", my_float)\n",
    "print(\"El tipo de datos de my_float es: \", type(my_float))"
   ]
  },
  {
   "cell_type": "code",
   "execution_count": 2,
   "id": "4af00dcb",
   "metadata": {},
   "outputs": [
    {
     "name": "stdout",
     "output_type": "stream",
     "text": [
      "El valor de my_float es:  2000.0\n",
      "El tipo de datos de my_float es:  <class 'float'>\n"
     ]
    }
   ],
   "source": [
    "my_float = 2e3\n",
    "print(\"El valor de my_float es: \", my_float)\n",
    "print(\"El tipo de datos de my_float es: \", type(my_float))"
   ]
  },
  {
   "cell_type": "code",
   "execution_count": 4,
   "id": "1ca149b6",
   "metadata": {},
   "outputs": [
    {
     "name": "stdout",
     "output_type": "stream",
     "text": [
      "El valor de my_float es:  20.0\n",
      "El tipo de datos de my_float es:  <class 'float'>\n"
     ]
    }
   ],
   "source": [
    "my_float = 2e1\n",
    "print(\"El valor de my_float es: \", my_float)\n",
    "print(\"El tipo de datos de my_float es: \", type(my_float))"
   ]
  },
  {
   "cell_type": "code",
   "execution_count": 6,
   "id": "bdc22d7e",
   "metadata": {},
   "outputs": [
    {
     "name": "stdout",
     "output_type": "stream",
     "text": [
      "El valor de my_float es:  0.2\n",
      "El tipo de datos de my_float es:  <class 'float'>\n"
     ]
    }
   ],
   "source": [
    "my_float = 2e-1\n",
    "print(\"El valor de my_float es: \", my_float)\n",
    "print(\"El tipo de datos de my_float es: \", type(my_float))"
   ]
  },
  {
   "cell_type": "markdown",
   "id": "6b1fac32",
   "metadata": {},
   "source": [
    "## Complex Numbers"
   ]
  },
  {
   "cell_type": "code",
   "execution_count": 7,
   "id": "600e32b9",
   "metadata": {},
   "outputs": [
    {
     "name": "stdout",
     "output_type": "stream",
     "text": [
      "El valor de my_complex es:  (3+9j)\n",
      "El tipo de dato de my_complex es:  <class 'complex'>\n"
     ]
    }
   ],
   "source": [
    "my_complex = 3 + 9j\n",
    "print(\"El valor de my_complex es: \", my_complex)\n",
    "print(\"El tipo de dato de my_complex es: \", type(my_complex))"
   ]
  },
  {
   "cell_type": "markdown",
   "id": "f270a8a3",
   "metadata": {},
   "source": [
    "## Boolean\n"
   ]
  },
  {
   "cell_type": "code",
   "execution_count": 10,
   "id": "2263834d",
   "metadata": {},
   "outputs": [
    {
     "name": "stdout",
     "output_type": "stream",
     "text": [
      "-2\n"
     ]
    }
   ],
   "source": [
    "my_bool = (True-True-True*2)\n",
    "print(my_bool)"
   ]
  },
  {
   "cell_type": "markdown",
   "id": "9e798399",
   "metadata": {},
   "source": [
    "## String"
   ]
  },
  {
   "cell_type": "code",
   "execution_count": 14,
   "id": "7fadc501",
   "metadata": {},
   "outputs": [
    {
     "name": "stdout",
     "output_type": "stream",
     "text": [
      "\n",
      "Es una cadena con múltiples líneas\n",
      "Como puedes ver es genial para textos más largos\n",
      "\n",
      "¿Puedes imaginar cuántas cosas podrías hacer manejado textos de internet?\n",
      "\n",
      "<class 'str'>\n"
     ]
    }
   ],
   "source": [
    "my_string = \"\"\"\n",
    "Es una cadena con múltiples líneas\n",
    "Como puedes ver es genial para textos más largos\\n\n",
    "¿Puedes imaginar cuántas cosas podrías hacer manejado textos de internet?\n",
    "\"\"\"\n",
    "print(my_string)\n",
    "print(type(my_string))"
   ]
  },
  {
   "cell_type": "markdown",
   "id": "77a7366b",
   "metadata": {},
   "source": [
    "## Variables"
   ]
  },
  {
   "cell_type": "code",
   "execution_count": 1,
   "id": "e68786ed",
   "metadata": {},
   "outputs": [
    {
     "ename": "SyntaxError",
     "evalue": "invalid syntax (1517832225.py, line 3)",
     "output_type": "error",
     "traceback": [
      "\u001b[0;36m  File \u001b[0;32m\"/var/folders/6n/5x9dhsn912qbr6h7fkbb1y3h0000gn/T/ipykernel_80992/1517832225.py\"\u001b[0;36m, line \u001b[0;32m3\u001b[0m\n\u001b[0;31m    def function my_function_1():\u001b[0m\n\u001b[0m                 ^\u001b[0m\n\u001b[0;31mSyntaxError\u001b[0m\u001b[0;31m:\u001b[0m invalid syntax\n"
     ]
    }
   ],
   "source": [
    "my_global_var = 50\n",
    "\n",
    "def function my_function_1():\n",
    "    my_local_var = 5\n",
    "\n",
    "def function my_function_2():\n",
    "    my_local_var = 35\n",
    "    \n",
    "\n"
   ]
  },
  {
   "cell_type": "code",
   "execution_count": 3,
   "id": "8b1b669b",
   "metadata": {},
   "outputs": [],
   "source": [
    "my_global_var = 50\n",
    "\n",
    "def my_function_1():\n",
    "    my_local_var = 5\n",
    "\n",
    "def my_function_2():\n",
    "    my_local_var = 35"
   ]
  },
  {
   "cell_type": "code",
   "execution_count": 4,
   "id": "895d32f5",
   "metadata": {},
   "outputs": [],
   "source": [
    "my_function_1()"
   ]
  },
  {
   "cell_type": "markdown",
   "id": "b6041ade",
   "metadata": {},
   "source": [
    "## Tipos de Enteros"
   ]
  },
  {
   "cell_type": "code",
   "execution_count": 10,
   "id": "87b64c0c",
   "metadata": {},
   "outputs": [
    {
     "name": "stdout",
     "output_type": "stream",
     "text": [
      "El valor de my_number es:  5\n"
     ]
    }
   ],
   "source": [
    "my_binary_number = 0b101\n",
    "print(\"El valor de my_number es: \", my_binary_number)"
   ]
  },
  {
   "cell_type": "code",
   "execution_count": 15,
   "id": "fac4c915",
   "metadata": {},
   "outputs": [
    {
     "name": "stdout",
     "output_type": "stream",
     "text": [
      "El valor de my_number es:  107\n"
     ]
    }
   ],
   "source": [
    "my_octal_number = 0o153\n",
    "print(\"El valor de my_number es: \", my_octal_number)"
   ]
  },
  {
   "cell_type": "code",
   "execution_count": 17,
   "id": "95790e3a",
   "metadata": {},
   "outputs": [
    {
     "name": "stdout",
     "output_type": "stream",
     "text": [
      "El valor de my_number es:  339\n"
     ]
    }
   ],
   "source": [
    "my_hex_number = 0x153\n",
    "print(\"El valor de my_number es: \", my_hex_number)"
   ]
  },
  {
   "cell_type": "code",
   "execution_count": null,
   "id": "64c8c192",
   "metadata": {},
   "outputs": [],
   "source": []
  }
 ],
 "metadata": {
  "kernelspec": {
   "display_name": "Python 3 (ipykernel)",
   "language": "python",
   "name": "python3"
  },
  "language_info": {
   "codemirror_mode": {
    "name": "ipython",
    "version": 3
   },
   "file_extension": ".py",
   "mimetype": "text/x-python",
   "name": "python",
   "nbconvert_exporter": "python",
   "pygments_lexer": "ipython3",
   "version": "3.9.13"
  }
 },
 "nbformat": 4,
 "nbformat_minor": 5
}
