{
 "cells": [
  {
   "cell_type": "code",
   "execution_count": 30,
   "id": "f9953cf7",
   "metadata": {},
   "outputs": [
    {
     "name": "stdout",
     "output_type": "stream",
     "text": [
      "Lista de Reproducción\n",
      "\n",
      "Ingresa la palabra que te gustaría\n",
      "Ejemplo: 'rock', y obtendrás un playlist de canciones o artistas que incluyan la palabra rock\n",
      "Country\n",
      "('Country Girl (Shake It For Me)', 'Country Mega Hits 2022', 'Luke Bryan', '3:45')\n",
      "('Country Again', 'Country Again (Side A)', 'Thomas Rhett', '3:41')\n",
      "('Country On', 'Country On', 'Luke Bryan', '3:56')\n",
      "('Country', 'Game Over', 'Niska', '3:28')\n",
      "('Country', 'Nemo', 'XXbando', '1:39')\n",
      "('Country Grammar (Hot Shit)', 'Hip Hop 2000', 'Nelly', '4:48')\n",
      "('Take Me Home, Country Roads', 'Poems, Prayers and Promises', 'John Denver', '3:10')\n",
      "(\"God's Country\", \"God's Country\", 'Blake Shelton', '3:25')\n",
      "('Country Boy', '34 Number Ones', 'Alan Jackson', '4:07')\n",
      "('Country Song', 'Holding Onto Strings Better Left To Fray', 'Seether', '3:49')\n",
      "('Country Grammar (Hot Shit)', 'Country Grammar', 'Nelly', '4:47')\n",
      "('Country Roads (Radio Version)', 'Country Roads', 'Hermes House Band', '3:21')\n",
      "('Like I Love Country Music', 'Like I Love Country Music', 'Kane Brown', '3:54')\n",
      "('Country A$$ Shit', 'Dangerous: The Double Album (Bonus)', 'Morgan Wallen', '3:06')\n",
      "('Catholic Country', 'Peace Or Love', 'Kings Of Convenience', '3:01')\n",
      "('Country House', 'Blur: The Best Of', 'Blur', '3:57')\n",
      "('Gone Country', '16 Biggest Hits', 'Alan Jackson', '4:19')\n",
      "('Bat Country', 'City of Evil', 'Avenged Sevenfold', '5:11')\n",
      "('Chemtrails Over The Country Club', 'Chemtrails Over The Country Club', 'Lana Del Rey', '4:31')\n",
      "('Country Road', 'Greatest Hits', 'James Taylor', '3:25')\n",
      "('Dancin’ In The Country', 'Tyler Hubbard', 'Tyler Hubbard', '2:59')\n",
      "('Country', 'Summer Love', 'Upchurch', '2:39')\n",
      "('Country Stuff (feat. Jake Owen)', 'Country Stuff The Album', 'Walker Hayes', '2:34')\n",
      "(\"All Your'n\", 'Country Squire', 'Tyler Childers', '3:38')\n",
      "('Country Must Be Country Wide', 'Gameday Country', 'Brantley Gilbert', '3:35')\n"
     ]
    }
   ],
   "source": [
    "import requests\n",
    "from math import floor\n",
    "\n",
    "def duration(duration_in_seconds):\n",
    "    min = floor(duration_in_seconds/60)\n",
    "    secs = duration_in_seconds % 60\n",
    "    return(\"{}:{:02d}\".format(min, secs))\n",
    "\n",
    "print(\"Lista de Reproducción\\n\")\n",
    "\n",
    "# Referencia: https://www.deezer.com/en/channels/explore\n",
    "\n",
    "print(\"Ingresa la palabra que te gustaría\")\n",
    "print(\"Ejemplo: 'rock', y obtendrás un playlist de canciones o artistas que incluyan la palabra rock\")\n",
    "      \n",
    "word_to_search = input()\n",
    "      \n",
    "url = \"https://deezerdevs-deezer.p.rapidapi.com/search\"\n",
    "querystring = {\"q\":word_to_search}\n",
    "      \n",
    "headers = {\n",
    "\"X-RapidAPI-Key\": \"3ed98f551fmshe4e6260228c4eadp13db17jsn8c893e1194da\",\n",
    "\"X-RapidAPI-Host\": \"deezerdevs-deezer.p.rapidapi.com\"\n",
    "}\n",
    "\n",
    "my_list = []\n",
    "      \n",
    "response = requests.request(\"GET\", url, headers=headers, params=querystring).json()\n",
    "for element in response['data']:\n",
    "    my_list.append((element['title'], element['album']['title'], element['artist']['name'], duration(element['duration'])))\n",
    "\n",
    "#print(my_list, \"\\n\")\n",
    "\n",
    "my_tuple = tuple(my_list)\n",
    "#print(my_tuple)\n",
    "\n",
    "for tup in my_tuple:\n",
    "    print(tup)"
   ]
  },
  {
   "cell_type": "code",
   "execution_count": null,
   "id": "94d25e96",
   "metadata": {},
   "outputs": [],
   "source": []
  }
 ],
 "metadata": {
  "kernelspec": {
   "display_name": "Python 3 (ipykernel)",
   "language": "python",
   "name": "python3"
  },
  "language_info": {
   "codemirror_mode": {
    "name": "ipython",
    "version": 3
   },
   "file_extension": ".py",
   "mimetype": "text/x-python",
   "name": "python",
   "nbconvert_exporter": "python",
   "pygments_lexer": "ipython3",
   "version": "3.9.13"
  }
 },
 "nbformat": 4,
 "nbformat_minor": 5
}
