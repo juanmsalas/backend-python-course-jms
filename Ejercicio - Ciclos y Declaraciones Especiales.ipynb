{
 "cells": [
  {
   "cell_type": "code",
   "execution_count": 9,
   "id": "a2190627",
   "metadata": {},
   "outputs": [
    {
     "name": "stdout",
     "output_type": "stream",
     "text": [
      "00:01 stop\n"
     ]
    }
   ],
   "source": [
    "import time\n",
    "\n",
    "def countup(time_sec):\n",
    "    counter = 0\n",
    "    \n",
    "    # Primero imprime 00:00\n",
    "    mins, secs = 0, 0\n",
    "    timeformat = '{:02d}:{:02d}'.format(mins, secs)\n",
    "    print(timeformat, end='\\r')\n",
    "    \n",
    "    # Si el tiempo son 0 segundos no entra al ciclo\n",
    "    while counter < time_sec:\n",
    "        time.sleep(1)\n",
    "        counter += 1\n",
    "        mins, secs = divmod(counter, 60)\n",
    "        timeformat = '{:02d}:{:02d}'.format(mins, secs)\n",
    "        print(timeformat, end='\\r')\n",
    "        \n",
    "    print(timeformat,\"stop\")\n",
    "    \n",
    "countup(1)"
   ]
  },
  {
   "cell_type": "code",
   "execution_count": null,
   "id": "c32ddfc4",
   "metadata": {},
   "outputs": [],
   "source": []
  }
 ],
 "metadata": {
  "kernelspec": {
   "display_name": "Python 3 (ipykernel)",
   "language": "python",
   "name": "python3"
  },
  "language_info": {
   "codemirror_mode": {
    "name": "ipython",
    "version": 3
   },
   "file_extension": ".py",
   "mimetype": "text/x-python",
   "name": "python",
   "nbconvert_exporter": "python",
   "pygments_lexer": "ipython3",
   "version": "3.9.13"
  }
 },
 "nbformat": 4,
 "nbformat_minor": 5
}
