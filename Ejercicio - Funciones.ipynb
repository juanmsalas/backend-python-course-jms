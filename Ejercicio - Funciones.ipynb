{
 "cells": [
  {
   "cell_type": "code",
   "execution_count": 50,
   "id": "61514324",
   "metadata": {},
   "outputs": [
    {
     "name": "stdout",
     "output_type": "stream",
     "text": [
      "We found 5 coincidences:\n",
      "['Ocean Kayak Malibu 11.5', 'Ocean Kayak Malibu 9.5', 'Ocean Kayak Malibu PDL', 'Ocean Kayak Malibu Two', 'Ocean Kayak Malibu Two XL']\n"
     ]
    }
   ],
   "source": [
    "item_list = [\n",
    "    'Ocean Kayak Banzai 9.5', 'Ocean Kayak Malibu 9.5', 'Ocean Kayak Malibu 11.5', 'Ocean Kayak Malibu Two', 'Ocean Kayak Venus 11', 'Ocean Kayak Malibu PDL', 'Ocean Kayak Malibu Two XL', 'Sportsman Discovery Solo 119', 'Ocean Kayak Banzai 9.5', 'Topwater 120 PDL', 'Ocean Kayak Banzai 9.5', 'Sportsman 106', 'Sportsman 120', 'Sportsman PDL 106', 'Sportsman PDL 120', 'Sportsman Salty PDL 120', 'Sportsman BigWater PDL 132', 'Sportsman BigWater 132', 'Sportsman 106 Powered By Minn Kota', 'Sportsman AutoPilot 120', 'Sportsman AutoPilot 136', 'Discovery 119 Solo Sportsman', 'Looksha T', 'Topwater 106', 'Topwater 120', 'Topwater 106 PDL', 'Castine 135', 'Castine 140', 'Castine 145', 'Sorrento 106sk', 'Sorrento 126sk', 'Dirigo 106', 'Dirigo 120', 'Loon 106 Angler', 'Loon 120', 'Loon 126', 'Loon 126 Angler', 'Dirigo Tandem Plus', 'Loon 106', 'Predator MX', 'Heron Junior', 'Twin Heron', 'Twister', 'Heron 9', 'Heron 9XT', 'Heron 11XT', 'Loon 111', 'Vapor 10XT', 'Vapor 12XT', 'Vapor 10', 'Vapor 10 Angler', 'Vapor 12 Angler'\n",
    "]\n",
    "\n",
    "def search_item(search_term):\n",
    "    # Searches for coincidences in the item list and returns them as a list\n",
    "    coincidence_list = []\n",
    "    \n",
    "    def validate_item(search_term, item):\n",
    "        # Check if item matches search term\n",
    "        if search_term.lower() in item.lower():\n",
    "            coincidence_list.append(item)\n",
    "            \n",
    "    for item in item_list:\n",
    "        validate_item(search_term, item)\n",
    "        \n",
    "    coincidence_list.sort()\n",
    "    return coincidence_list\n",
    "\n",
    "my_list = search_item(\"malibu\")\n",
    "print(\"We found {} coincidences:\".format(len(my_list)))\n",
    "print(my_list)\n"
   ]
  },
  {
   "cell_type": "code",
   "execution_count": 51,
   "id": "dc6674d5",
   "metadata": {},
   "outputs": [
    {
     "name": "stdout",
     "output_type": "stream",
     "text": [
      "We found 2 coincidences:\n",
      "['Ocean Kayak Malibu Two', 'Ocean Kayak Malibu Two XL']\n"
     ]
    }
   ],
   "source": [
    "my_list = search_item(\"two\")\n",
    "print(\"We found {} coincidences:\".format(len(my_list)))\n",
    "print(my_list)"
   ]
  },
  {
   "cell_type": "code",
   "execution_count": 52,
   "id": "d2409500",
   "metadata": {},
   "outputs": [
    {
     "name": "stdout",
     "output_type": "stream",
     "text": [
      "We found 6 coincidences:\n",
      "['Discovery 119 Solo Sportsman', 'Heron 11XT', 'Loon 111', 'Ocean Kayak Malibu 11.5', 'Ocean Kayak Venus 11', 'Sportsman Discovery Solo 119']\n"
     ]
    }
   ],
   "source": [
    "my_list = search_item(\"11\")\n",
    "print(\"We found {} coincidences:\".format(len(my_list)))\n",
    "print(my_list)"
   ]
  },
  {
   "cell_type": "code",
   "execution_count": 53,
   "id": "a32bef36",
   "metadata": {},
   "outputs": [
    {
     "name": "stdout",
     "output_type": "stream",
     "text": [
      "We found 2 coincidences:\n",
      "['Discovery 119 Solo Sportsman', 'Sportsman Discovery Solo 119']\n"
     ]
    }
   ],
   "source": [
    "my_list = search_item(\"solo\")\n",
    "print(\"We found {} coincidences:\".format(len(my_list)))\n",
    "print(my_list)"
   ]
  },
  {
   "cell_type": "code",
   "execution_count": 54,
   "id": "620b2f0a",
   "metadata": {},
   "outputs": [
    {
     "name": "stdout",
     "output_type": "stream",
     "text": [
      "We found 12 coincidences:\n",
      "['Discovery 119 Solo Sportsman', 'Sportsman 106', 'Sportsman 106 Powered By Minn Kota', 'Sportsman 120', 'Sportsman AutoPilot 120', 'Sportsman AutoPilot 136', 'Sportsman BigWater 132', 'Sportsman BigWater PDL 132', 'Sportsman Discovery Solo 119', 'Sportsman PDL 106', 'Sportsman PDL 120', 'Sportsman Salty PDL 120']\n"
     ]
    }
   ],
   "source": [
    "my_list = search_item(\"sportsman\")\n",
    "print(\"We found {} coincidences:\".format(len(my_list)))\n",
    "print(my_list)"
   ]
  },
  {
   "cell_type": "code",
   "execution_count": null,
   "id": "70d52dcc",
   "metadata": {},
   "outputs": [],
   "source": []
  }
 ],
 "metadata": {
  "kernelspec": {
   "display_name": "Python 3 (ipykernel)",
   "language": "python",
   "name": "python3"
  },
  "language_info": {
   "codemirror_mode": {
    "name": "ipython",
    "version": 3
   },
   "file_extension": ".py",
   "mimetype": "text/x-python",
   "name": "python",
   "nbconvert_exporter": "python",
   "pygments_lexer": "ipython3",
   "version": "3.9.13"
  }
 },
 "nbformat": 4,
 "nbformat_minor": 5
}
