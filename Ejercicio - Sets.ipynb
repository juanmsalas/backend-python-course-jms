{
 "cells": [
  {
   "cell_type": "code",
   "execution_count": 1,
   "id": "1b83e69c",
   "metadata": {},
   "outputs": [
    {
     "name": "stdout",
     "output_type": "stream",
     "text": [
      "{'00A0', '333B', 'C6C6', '1AAA', 'B555', '0A00', '6C6C', '3B3B', 'D666', '8D8D', 'BB88', 'C2CC', 'A99A', 'A444', 'DDD5', '3CC3', 'B33B', '44DD', 'BB99', '1BBB', 'B444', '4DDD', 'A33A', 'BBB6', '66BB', 'D8D8', '7A7A', 'DDD2', 'DDD9', '00DD', '666C', '2B2B', '3AA3', '4B4B', 'B99B', '00C0', '1D1D', '11B1', 'AA44', '555A', '8888', 'BB1B', 'C444', 'B55B', 'D00D', '7CCC', 'D444', '999A', '00D0', 'D000', 'C333', 'A888', '8A88', '999D', 'CC0C', 'CC6C', 'C7C7', '7DDD', '66DD', '6A6A', 'CC1C', 'A9AA', '55BB', '5DDD', 'D8DD', '6B6B', 'DDD1', '2C2C', '44CC', 'A6AA', 'DD8D', '0000', '77B7', '9D99', 'B00B', '4BBB', '88AA', '777A', '7B7B', '55DD', 'C4CC', '6B66', '9AA9', '4A4A', '4AA4', '4DD4', 'AA6A', 'B9BB', '77AA', '33C3', 'CCC6', '333D', 'D1DD', '77DD', '8DDD', '0C0C', 'C5C5', 'A7A7', '22B2', 'AAAA', 'B7BB', 'D11D', '5555', 'A222', '5CCC', '00BB', 'CC88', '5D55', 'CC11', 'BBB7', 'D7DD', 'CC3C', 'AA11', '0B0B', '99D9', '7B77', 'DDD8', 'C666', '000A', 'CCC4', '6BB6', '33D3', '3DD3', 'CCC3', '9B9B', 'A1A1', '777C', '99BB', 'C999', 'AA3A', '4CCC', '9A99', 'C0CC', 'A999', 'A11A', '6AAA', 'AA1A', '9CCC', '7D77', 'B9B9', '7AA7', '55AA', '555D', '0CC0', '7C7C', 'B4BB', '88BB', 'BB33', '7777', 'CCC8', 'D0D0', '2A22', 'D333', '444B', 'D111', 'A0AA', '8B88', 'CC33', '000D', '888A', 'A2A2', 'C3CC', 'BB8B', '4C4C', 'DD2D', '7CC7', '9AAA', '1DDD', '77C7', 'B5B5', 'D2D2', 'C99C', 'DDDD', '5A5A', 'AA66', '444C', 'CC44', 'C9C9', '3BB3', 'C888', 'A000', '3CCC', '6D66', 'AAA7', '66B6', '11DD', 'B5BB', '00B0', '2CCC', 'DDD4', '111B', 'C1CC', '5AAA', 'C000', '3A33', '3B33', '8CC8', 'A666', '2BBB', '000C', '66C6', 'A8A8', 'BB11', '00AA', '9C99', '5D5D', 'AAA8', 'DD00', '7DD7', '777B', '0DDD', '2BB2', 'A55A', 'BB6B', '111C', '2222', '0BB0', 'A6A6', 'BBBB', 'D777', '33AA', 'B77B', '1C1C', 'A66A', 'C4C4', 'BBB3', 'A00A', 'CC5C', '1A11', '9999', '8AAA', 'A44A', '5BB5', 'AA55', 'A88A', 'AAA4', '1CC1', '3DDD', '4444', 'BB2B', '99C9', 'D0DD', 'D6DD', '6D6D', '6CCC', '0DD0', '44D4', '0CCC', 'C11C', 'B22B', '55A5', 'AA99', '77A7', '9C9C', 'B333', 'BB66', 'CC4C', 'CC00', '44B4', 'AA8A', 'D2DD', '2AAA', 'C111', '7BBB', 'AA77', '444A', 'BB7B', 'DD66', 'B8B8', 'D3DD', '88A8', '5A55', 'D222', 'B2B2', 'CC2C', 'DDD3', 'A0A0', '00CC', '4AAA', '4C44', 'BBB1', 'D9DD', '11C1', 'B777', 'D3D3', '6C66', 'C6CC', 'AAA3', '8D88', '000B', 'DD77', 'BB5B', 'DD22', 'C5CC', '7A77', 'AA4A', 'B1BB', '666D', 'CC77', 'A333', '44BB', 'C777', 'A22A', '5BBB', 'B4B4', 'D999', '22C2', 'AAA0', '77D7', 'D77D', 'B999', 'AAA6', 'CCC0', '8C8C', '44C4', 'D888', '8BB8', 'B6BB', 'D7D7', '999C', '222C', '5AA5', '8AA8', 'C8C8', '33BB', '77BB', '33CC', 'CC99', 'C3C3', 'BB00', 'C55C', '1C11', '7D7D', 'CC7C', 'BB3B', '6DDD', '55B5', 'B88B', '666A', '888C', 'BBB0', '5DD5', '88D8', 'C88C', 'D5D5', '3333', '11A1', 'D1D1', 'CCCC', 'DD6D', '8B8B', 'AAA1', 'DD99', 'B44B', '99B9', '44A4', 'B1B1', 'A9A9', '88DD', '22DD', '55CC', 'B888', 'C77C', '9DD9', 'AA7A', '0D0D', 'B666', '3D3D', 'D4D4', '4BB4', 'CCC7', '2AA2', '8CCC', '99CC', '333A', 'D55D', '22AA', '33DD', 'DDD7', '66D6', 'A5A5', 'AA2A', '4D4D', '6DD6', '88CC', '1AA1', '66A6', '55D5', 'B3B3', '555C', '88B8', '4B44', '0BBB', 'AAA5', 'BBB8', 'D4DD', 'A77A', '1B1B', '88C8', '77CC', '4CC4', 'BB55', 'CCC9', 'DD3D', 'B111', '33A3', '5C55', 'DD33', 'D9D9', 'B66B', '3A3A', '2B22', 'B000', '4A44', 'D44D', '9CC9', '2DD2', '888D', 'D66D', '1DD1', '7BB7', 'BB0B', '3C3C', 'BB77', 'C222', '777D', '22A2', '111A', 'C00C', 'C9CC', '11BB', 'DDD6', '1B11', '111D', '11D1', '555B', 'D99D', 'DD1D', 'C1C1', 'BB9B', '888B', '1A1A', '5B55', 'DD55', 'B3BB', 'A7AA', 'AAA2', '22CC', 'BB4B', '0B00', '8A8A', '1111', '66AA', '9A9A', '9BBB', 'A777', 'CC9C', 'A111', 'A8AA', 'DD88', '44AA', 'C33C', '2A2A', '333C', 'B222', 'BBB2', '11CC', 'A3A3', '6A66', 'D555', '9D9D', '222B', '6BBB', '2DDD', '9BB9', '11AA', 'B0B0', '222D', '0AA0', '3D33', 'A4A4', 'C66C', '2D22', '666B', 'C7CC', 'BB44', '7C77', 'A3AA', 'AA5A', '4D44', 'A555', 'AAA9', '3C33', '2D2D', '99DD', '8DD8', 'D22D', 'D33D', 'DD9D', 'CCC1', '66CC', '99A9', '22D2', 'C8CC', 'D88D', 'AA88', '3BBB', 'DD11', '0AAA', 'D5DD', '1CCC', '6CC6', '6666', 'B7B7', 'A4AA', 'CC22', '6AA6', 'AA9A', 'B2BB', 'B8BB', '5C5C', 'C0C0', '0C00', '8C88', '9B99', '5B5B', 'CC55', '7AAA', 'BB22', 'C44C', '1D11', '2C22', '222A', 'C22C', 'AA33', '5CC5', '99AA', 'CCC2', 'DDD0', '2CC2', '0A0A', 'A1AA', '999B', '1BB1', 'B6B6', '33B3', 'A2AA', '9DDD', 'A5AA', 'D6D6', 'DD44', 'C555', 'DD4D', '22BB', 'BBB9', 'AA22', 'CC8C', '55C5', 'B11B', '0D00', 'C2C2', 'DD5D', 'DD7D', '8BBB', 'AA0A', 'B0BB', '444D', 'AA00', 'BBB5', 'DD0D', '3AAA', 'CC66', 'BBB4', 'CCC5'}\n",
      "574\n"
     ]
    }
   ],
   "source": [
    "numbers = ['0', '1', '2', '3', '4', '5', '6', '7', '8', '9']\n",
    "letters = ['A', 'B', 'C', 'D']\n",
    "\n",
    "# Decidí automatizar el programa para que las instrucciones no sean tan estáticas\n",
    "# El mismo programa debe funcionar por sí solo si utilizamos solo 3 letras como en el ejemplo proporcionado:\n",
    "# letters = ['A', 'B', 'C']\n",
    "\n",
    "letter_count = len(letters)\n",
    "combinations = (2 ** letter_count)\n",
    "my_list = [0] * letter_count\n",
    "\n",
    "# Nos ayudaremos de los números binarios del 0 al 15 (2 ** letter_count -1) para formar las combinaciones\n",
    "# Ejemplo: del 0b0000 al 0b1111 (con ceros a la izquierda)\n",
    "formato = '#0{}b'.format(letter_count+2)  # Ejemplo: '#06b' para combinaciones de 4 letras\n",
    "\n",
    "unique_combinations = set()\n",
    "    \n",
    "for number in numbers:\n",
    "    for letter in letters:\n",
    "        for num in range(0,combinations):\n",
    "            for i in range(2,letter_count+2):\n",
    "                if int(format(num,formato)[i:i+1]):\n",
    "                    my_list[i-2] = letter\n",
    "                else: \n",
    "                    my_list[i-2] = str(0+int(number))\n",
    "            unique_combinations.add(\"\".join(my_list))\n",
    "\n",
    "print(unique_combinations)\n",
    "print(len(unique_combinations))"
   ]
  },
  {
   "cell_type": "code",
   "execution_count": 7,
   "id": "a812c5f5",
   "metadata": {},
   "outputs": [
    {
     "name": "stdout",
     "output_type": "stream",
     "text": [
      "0b1000\n"
     ]
    }
   ],
   "source": [
    "bin_num = 0b1000\n",
    "print(bin(bin_num))"
   ]
  },
  {
   "cell_type": "code",
   "execution_count": null,
   "id": "c6141ae9",
   "metadata": {},
   "outputs": [],
   "source": []
  }
 ],
 "metadata": {
  "kernelspec": {
   "display_name": "Python 3 (ipykernel)",
   "language": "python",
   "name": "python3"
  },
  "language_info": {
   "codemirror_mode": {
    "name": "ipython",
    "version": 3
   },
   "file_extension": ".py",
   "mimetype": "text/x-python",
   "name": "python",
   "nbconvert_exporter": "python",
   "pygments_lexer": "ipython3",
   "version": "3.9.13"
  }
 },
 "nbformat": 4,
 "nbformat_minor": 5
}
