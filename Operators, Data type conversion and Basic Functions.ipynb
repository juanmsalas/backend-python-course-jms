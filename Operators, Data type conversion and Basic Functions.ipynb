{
 "cells": [
  {
   "cell_type": "code",
   "execution_count": 4,
   "id": "270bff70",
   "metadata": {},
   "outputs": [
    {
     "name": "stdout",
     "output_type": "stream",
     "text": [
      "2\n"
     ]
    }
   ],
   "source": [
    "print(10//4)"
   ]
  },
  {
   "cell_type": "code",
   "execution_count": 5,
   "id": "639e356d",
   "metadata": {},
   "outputs": [
    {
     "name": "stdout",
     "output_type": "stream",
     "text": [
      "38.0\n"
     ]
    }
   ],
   "source": [
    "print(7.6*5)"
   ]
  },
  {
   "cell_type": "code",
   "execution_count": 9,
   "id": "32c7e538",
   "metadata": {},
   "outputs": [
    {
     "name": "stdout",
     "output_type": "stream",
     "text": [
      "7\n"
     ]
    }
   ],
   "source": [
    "print(38//5)"
   ]
  },
  {
   "cell_type": "markdown",
   "id": "4b7eab65",
   "metadata": {},
   "source": [
    "# Operadores de Afiliación"
   ]
  },
  {
   "cell_type": "code",
   "execution_count": 10,
   "id": "5b94431b",
   "metadata": {},
   "outputs": [
    {
     "name": "stdout",
     "output_type": "stream",
     "text": [
      "'a' in my_string?: True\n"
     ]
    }
   ],
   "source": [
    "my_string = \"Backend Python\"\n",
    "print(\"'a' in my_string?:\", 'a' in my_string)"
   ]
  },
  {
   "cell_type": "code",
   "execution_count": 11,
   "id": "d7353ec8",
   "metadata": {},
   "outputs": [
    {
     "name": "stdout",
     "output_type": "stream",
     "text": [
      "False\n"
     ]
    }
   ],
   "source": [
    "my_list = [1, 100, 25, 6, 32]\n",
    "print(5 in my_list)"
   ]
  },
  {
   "cell_type": "code",
   "execution_count": 12,
   "id": "b3f365e1",
   "metadata": {},
   "outputs": [
    {
     "name": "stdout",
     "output_type": "stream",
     "text": [
      "True\n"
     ]
    }
   ],
   "source": [
    "my_list = [1, 100, 25, 6, 32]\n",
    "print(25 in my_list)"
   ]
  },
  {
   "cell_type": "code",
   "execution_count": 13,
   "id": "52d662ce",
   "metadata": {},
   "outputs": [
    {
     "name": "stdout",
     "output_type": "stream",
     "text": [
      "False\n"
     ]
    }
   ],
   "source": [
    "my_set = {1, 100, 25, 6, 32}\n",
    "print(5 in my_set)"
   ]
  },
  {
   "cell_type": "code",
   "execution_count": 14,
   "id": "bc1e2d53",
   "metadata": {},
   "outputs": [
    {
     "name": "stdout",
     "output_type": "stream",
     "text": [
      "True\n"
     ]
    }
   ],
   "source": [
    "my_set = {1, 100, 25, 6, 32, 5, 16, 78, 5, 1}\n",
    "print(5 in my_set)"
   ]
  },
  {
   "cell_type": "code",
   "execution_count": 15,
   "id": "3c9140e9",
   "metadata": {},
   "outputs": [
    {
     "data": {
      "text/plain": [
       "{1, 5, 6, 16, 25, 32, 78, 100}"
      ]
     },
     "execution_count": 15,
     "metadata": {},
     "output_type": "execute_result"
    }
   ],
   "source": [
    "my_set"
   ]
  },
  {
   "cell_type": "markdown",
   "id": "8504aec3",
   "metadata": {},
   "source": [
    "# Operadores de Identidad"
   ]
  },
  {
   "cell_type": "markdown",
   "id": "937f25a8",
   "metadata": {},
   "source": [
    "## Son usados para comparar la ubicación en memoria de dos objetos"
   ]
  },
  {
   "cell_type": "code",
   "execution_count": 17,
   "id": "c146ff71",
   "metadata": {},
   "outputs": [
    {
     "name": "stdout",
     "output_type": "stream",
     "text": [
      "False\n"
     ]
    }
   ],
   "source": [
    "num1 = 11\n",
    "num2 = 55\n",
    "print(num1 is num2)"
   ]
  },
  {
   "cell_type": "code",
   "execution_count": 18,
   "id": "db2c234f",
   "metadata": {},
   "outputs": [
    {
     "name": "stdout",
     "output_type": "stream",
     "text": [
      "True\n"
     ]
    }
   ],
   "source": [
    "num1 = 11\n",
    "num2 = 11\n",
    "print(num1 is num2)"
   ]
  },
  {
   "cell_type": "code",
   "execution_count": 19,
   "id": "1aad219a",
   "metadata": {},
   "outputs": [
    {
     "name": "stdout",
     "output_type": "stream",
     "text": [
      "140519529388656\n"
     ]
    }
   ],
   "source": [
    "print(id(num1))"
   ]
  },
  {
   "cell_type": "code",
   "execution_count": 20,
   "id": "1df072ec",
   "metadata": {},
   "outputs": [
    {
     "name": "stdout",
     "output_type": "stream",
     "text": [
      "True\n"
     ]
    }
   ],
   "source": [
    "num1 = 11\n",
    "num2 = 55\n",
    "print(num1 is not num2)"
   ]
  },
  {
   "cell_type": "markdown",
   "id": "f8669969",
   "metadata": {},
   "source": [
    "# Conversión de Tipos"
   ]
  },
  {
   "cell_type": "code",
   "execution_count": 21,
   "id": "34402c2a",
   "metadata": {},
   "outputs": [
    {
     "data": {
      "text/plain": [
       "(4+0j)"
      ]
     },
     "execution_count": 21,
     "metadata": {},
     "output_type": "execute_result"
    }
   ],
   "source": [
    "complex(4)"
   ]
  },
  {
   "cell_type": "code",
   "execution_count": 23,
   "id": "50e43ef7",
   "metadata": {},
   "outputs": [
    {
     "data": {
      "text/plain": [
       "True"
      ]
     },
     "execution_count": 23,
     "metadata": {},
     "output_type": "execute_result"
    }
   ],
   "source": [
    "bool(45)"
   ]
  },
  {
   "cell_type": "code",
   "execution_count": 24,
   "id": "ccfe6575",
   "metadata": {},
   "outputs": [
    {
     "data": {
      "text/plain": [
       "False"
      ]
     },
     "execution_count": 24,
     "metadata": {},
     "output_type": "execute_result"
    }
   ],
   "source": [
    "bool(0)"
   ]
  },
  {
   "cell_type": "code",
   "execution_count": 25,
   "id": "f6aeaf9a",
   "metadata": {},
   "outputs": [
    {
     "data": {
      "text/plain": [
       "15.0"
      ]
     },
     "execution_count": 25,
     "metadata": {},
     "output_type": "execute_result"
    }
   ],
   "source": [
    "float(15)"
   ]
  },
  {
   "cell_type": "code",
   "execution_count": 27,
   "id": "e5636115",
   "metadata": {},
   "outputs": [
    {
     "data": {
      "text/plain": [
       "234"
      ]
     },
     "execution_count": 27,
     "metadata": {},
     "output_type": "execute_result"
    }
   ],
   "source": [
    "int(234.7)"
   ]
  },
  {
   "cell_type": "code",
   "execution_count": 28,
   "id": "df1cedbb",
   "metadata": {},
   "outputs": [
    {
     "data": {
      "text/plain": [
       "True"
      ]
     },
     "execution_count": 28,
     "metadata": {},
     "output_type": "execute_result"
    }
   ],
   "source": [
    "bool(75.1)"
   ]
  },
  {
   "cell_type": "code",
   "execution_count": 31,
   "id": "45ed1202",
   "metadata": {},
   "outputs": [
    {
     "data": {
      "text/plain": [
       "678.99"
      ]
     },
     "execution_count": 31,
     "metadata": {},
     "output_type": "execute_result"
    }
   ],
   "source": [
    "float(\"678.99\")"
   ]
  },
  {
   "cell_type": "code",
   "execution_count": 30,
   "id": "6f507d1a",
   "metadata": {},
   "outputs": [
    {
     "data": {
      "text/plain": [
       "345"
      ]
     },
     "execution_count": 30,
     "metadata": {},
     "output_type": "execute_result"
    }
   ],
   "source": [
    "int(\"345\")"
   ]
  },
  {
   "cell_type": "code",
   "execution_count": 32,
   "id": "bc0d2f15",
   "metadata": {},
   "outputs": [
    {
     "data": {
      "text/plain": [
       "987.0"
      ]
     },
     "execution_count": 32,
     "metadata": {},
     "output_type": "execute_result"
    }
   ],
   "source": [
    "float(\"987\")"
   ]
  },
  {
   "cell_type": "code",
   "execution_count": 33,
   "id": "69d25738",
   "metadata": {},
   "outputs": [
    {
     "data": {
      "text/plain": [
       "True"
      ]
     },
     "execution_count": 33,
     "metadata": {},
     "output_type": "execute_result"
    }
   ],
   "source": [
    "bool(\"True\")"
   ]
  },
  {
   "cell_type": "markdown",
   "id": "e8a90e17",
   "metadata": {},
   "source": [
    "## Conversiones Complex"
   ]
  },
  {
   "cell_type": "code",
   "execution_count": 34,
   "id": "c7564b85",
   "metadata": {},
   "outputs": [
    {
     "data": {
      "text/plain": [
       "(56+0j)"
      ]
     },
     "execution_count": 34,
     "metadata": {},
     "output_type": "execute_result"
    }
   ],
   "source": [
    "complex(56)"
   ]
  },
  {
   "cell_type": "code",
   "execution_count": 35,
   "id": "dc5cc119",
   "metadata": {},
   "outputs": [
    {
     "data": {
      "text/plain": [
       "(97.8+0j)"
      ]
     },
     "execution_count": 35,
     "metadata": {},
     "output_type": "execute_result"
    }
   ],
   "source": [
    "complex(97.8)"
   ]
  },
  {
   "cell_type": "code",
   "execution_count": 36,
   "id": "50dbbae3",
   "metadata": {},
   "outputs": [
    {
     "data": {
      "text/plain": [
       "(1+0j)"
      ]
     },
     "execution_count": 36,
     "metadata": {},
     "output_type": "execute_result"
    }
   ],
   "source": [
    "complex(True)"
   ]
  },
  {
   "cell_type": "code",
   "execution_count": 37,
   "id": "54e4c04d",
   "metadata": {},
   "outputs": [
    {
     "data": {
      "text/plain": [
       "0j"
      ]
     },
     "execution_count": 37,
     "metadata": {},
     "output_type": "execute_result"
    }
   ],
   "source": [
    "complex(False)"
   ]
  },
  {
   "cell_type": "code",
   "execution_count": 39,
   "id": "28f46f0c",
   "metadata": {},
   "outputs": [
    {
     "data": {
      "text/plain": [
       "(1+2j)"
      ]
     },
     "execution_count": 39,
     "metadata": {},
     "output_type": "execute_result"
    }
   ],
   "source": [
    "complex(\"1+2j\")"
   ]
  },
  {
   "cell_type": "markdown",
   "id": "54ab4123",
   "metadata": {},
   "source": [
    "complex(0xff)"
   ]
  },
  {
   "cell_type": "code",
   "execution_count": 44,
   "id": "fa03f943",
   "metadata": {},
   "outputs": [
    {
     "data": {
      "text/plain": [
       "(256+0j)"
      ]
     },
     "execution_count": 44,
     "metadata": {},
     "output_type": "execute_result"
    }
   ],
   "source": [
    "complex(0xff+0o1)"
   ]
  },
  {
   "cell_type": "code",
   "execution_count": 45,
   "id": "d10058a8",
   "metadata": {},
   "outputs": [],
   "source": [
    "## Conversiones Bool"
   ]
  },
  {
   "cell_type": "code",
   "execution_count": 48,
   "id": "1165fc70",
   "metadata": {},
   "outputs": [
    {
     "data": {
      "text/plain": [
       "True"
      ]
     },
     "execution_count": 48,
     "metadata": {},
     "output_type": "execute_result"
    }
   ],
   "source": [
    "bool(-345.6)"
   ]
  },
  {
   "cell_type": "code",
   "execution_count": 51,
   "id": "89ed0eac",
   "metadata": {},
   "outputs": [
    {
     "data": {
      "text/plain": [
       "True"
      ]
     },
     "execution_count": 51,
     "metadata": {},
     "output_type": "execute_result"
    }
   ],
   "source": [
    "bool(-0.01)"
   ]
  },
  {
   "cell_type": "code",
   "execution_count": 52,
   "id": "58d10cba",
   "metadata": {},
   "outputs": [
    {
     "data": {
      "text/plain": [
       "False"
      ]
     },
     "execution_count": 52,
     "metadata": {},
     "output_type": "execute_result"
    }
   ],
   "source": [
    "bool(0+0j)"
   ]
  },
  {
   "cell_type": "code",
   "execution_count": 54,
   "id": "7ed83d19",
   "metadata": {},
   "outputs": [
    {
     "data": {
      "text/plain": [
       "False"
      ]
     },
     "execution_count": 54,
     "metadata": {},
     "output_type": "execute_result"
    }
   ],
   "source": [
    "bool(\"\")"
   ]
  },
  {
   "cell_type": "code",
   "execution_count": 55,
   "id": "62560ab5",
   "metadata": {},
   "outputs": [
    {
     "data": {
      "text/plain": [
       "True"
      ]
     },
     "execution_count": 55,
     "metadata": {},
     "output_type": "execute_result"
    }
   ],
   "source": [
    "bool(\" \")"
   ]
  },
  {
   "cell_type": "code",
   "execution_count": 56,
   "id": "fa4180a6",
   "metadata": {},
   "outputs": [
    {
     "data": {
      "text/plain": [
       "True"
      ]
     },
     "execution_count": 56,
     "metadata": {},
     "output_type": "execute_result"
    }
   ],
   "source": [
    "bool(\"0\")"
   ]
  },
  {
   "cell_type": "markdown",
   "id": "5b88c40f",
   "metadata": {},
   "source": [
    "## Conversiones String"
   ]
  },
  {
   "cell_type": "code",
   "execution_count": 57,
   "id": "31bdf50d",
   "metadata": {},
   "outputs": [
    {
     "data": {
      "text/plain": [
       "'25'"
      ]
     },
     "execution_count": 57,
     "metadata": {},
     "output_type": "execute_result"
    }
   ],
   "source": [
    "str(25)"
   ]
  },
  {
   "cell_type": "code",
   "execution_count": 61,
   "id": "ecd53db1",
   "metadata": {},
   "outputs": [
    {
     "data": {
      "text/plain": [
       "'True'"
      ]
     },
     "execution_count": 61,
     "metadata": {},
     "output_type": "execute_result"
    }
   ],
   "source": [
    "str(True)"
   ]
  },
  {
   "cell_type": "code",
   "execution_count": 62,
   "id": "967c72b1",
   "metadata": {},
   "outputs": [
    {
     "data": {
      "text/plain": [
       "'False'"
      ]
     },
     "execution_count": 62,
     "metadata": {},
     "output_type": "execute_result"
    }
   ],
   "source": [
    "str(False)"
   ]
  },
  {
   "cell_type": "code",
   "execution_count": 63,
   "id": "be480592",
   "metadata": {},
   "outputs": [
    {
     "data": {
      "text/plain": [
       "'(7+9j)'"
      ]
     },
     "execution_count": 63,
     "metadata": {},
     "output_type": "execute_result"
    }
   ],
   "source": [
    "str(7+9j)"
   ]
  },
  {
   "cell_type": "markdown",
   "id": "9e3fef22",
   "metadata": {},
   "source": [
    "# Funciones Básicas"
   ]
  },
  {
   "cell_type": "code",
   "execution_count": 65,
   "id": "c7918945",
   "metadata": {},
   "outputs": [
    {
     "data": {
      "text/plain": [
       "567"
      ]
     },
     "execution_count": 65,
     "metadata": {},
     "output_type": "execute_result"
    }
   ],
   "source": [
    "from math import trunc\n",
    "num1 = 567.89\n",
    "trunc(num1)"
   ]
  },
  {
   "cell_type": "code",
   "execution_count": 69,
   "id": "fa83cf8a",
   "metadata": {},
   "outputs": [
    {
     "data": {
      "text/plain": [
       "568"
      ]
     },
     "execution_count": 69,
     "metadata": {},
     "output_type": "execute_result"
    }
   ],
   "source": [
    "num1 = 567.5\n",
    "round(num1)"
   ]
  },
  {
   "cell_type": "code",
   "execution_count": 75,
   "id": "3cad7039",
   "metadata": {},
   "outputs": [
    {
     "data": {
      "text/plain": [
       "568"
      ]
     },
     "execution_count": 75,
     "metadata": {},
     "output_type": "execute_result"
    }
   ],
   "source": [
    "from math import ceil\n",
    "num1 = 567.000000000001\n",
    "ceil(num1)"
   ]
  },
  {
   "cell_type": "code",
   "execution_count": 93,
   "id": "99539ff5",
   "metadata": {},
   "outputs": [
    {
     "data": {
      "text/plain": [
       "567"
      ]
     },
     "execution_count": 93,
     "metadata": {},
     "output_type": "execute_result"
    }
   ],
   "source": [
    "from math import floor\n",
    "num1 = 567.999999999999\n",
    "floor(num1)"
   ]
  },
  {
   "cell_type": "code",
   "execution_count": 96,
   "id": "1457e1a1",
   "metadata": {},
   "outputs": [
    {
     "data": {
      "text/plain": [
       "568"
      ]
     },
     "execution_count": 96,
     "metadata": {},
     "output_type": "execute_result"
    }
   ],
   "source": [
    "from math import floor\n",
    "num1 = 567.99999999999999\n",
    "floor(num1)"
   ]
  },
  {
   "cell_type": "code",
   "execution_count": 97,
   "id": "c0588b47",
   "metadata": {},
   "outputs": [
    {
     "data": {
      "text/plain": [
       "568"
      ]
     },
     "execution_count": 97,
     "metadata": {},
     "output_type": "execute_result"
    }
   ],
   "source": [
    "from math import floor\n",
    "num1 = 567.99999999999999\n",
    "floor(num1)"
   ]
  },
  {
   "cell_type": "markdown",
   "id": "5e8de758",
   "metadata": {},
   "source": [
    "### Función %"
   ]
  },
  {
   "cell_type": "code",
   "execution_count": 99,
   "id": "c73fc351",
   "metadata": {},
   "outputs": [
    {
     "name": "stdout",
     "output_type": "stream",
     "text": [
      "568.00\n"
     ]
    }
   ],
   "source": [
    "num1 = 567.99999999999999\n",
    "print('%.2f' % num1)"
   ]
  },
  {
   "cell_type": "code",
   "execution_count": 100,
   "id": "d064ed75",
   "metadata": {},
   "outputs": [
    {
     "name": "stdout",
     "output_type": "stream",
     "text": [
      "567.76\n"
     ]
    }
   ],
   "source": [
    "num1 = 567.756\n",
    "print('%.2f' % num1)"
   ]
  },
  {
   "cell_type": "code",
   "execution_count": 101,
   "id": "4d400a22",
   "metadata": {},
   "outputs": [
    {
     "name": "stdout",
     "output_type": "stream",
     "text": [
      "567.7560\n"
     ]
    }
   ],
   "source": [
    "num1 = 567.756\n",
    "print('%.4f' % num1)"
   ]
  },
  {
   "cell_type": "code",
   "execution_count": 102,
   "id": "5aa42ced",
   "metadata": {},
   "outputs": [
    {
     "name": "stdout",
     "output_type": "stream",
     "text": [
      "3.1416\n"
     ]
    }
   ],
   "source": [
    "num1 = 3.14159\n",
    "print('%.4f' % num1)"
   ]
  },
  {
   "cell_type": "markdown",
   "id": "8d93817f",
   "metadata": {},
   "source": [
    "### format()"
   ]
  },
  {
   "cell_type": "code",
   "execution_count": 105,
   "id": "7df9de02",
   "metadata": {},
   "outputs": [
    {
     "name": "stdout",
     "output_type": "stream",
     "text": [
      "3.1416\n"
     ]
    }
   ],
   "source": [
    "num1 = 3.14159\n",
    "print('{:.4f}'.format(num1))"
   ]
  },
  {
   "cell_type": "code",
   "execution_count": 106,
   "id": "8ce11c3c",
   "metadata": {},
   "outputs": [
    {
     "name": "stdout",
     "output_type": "stream",
     "text": [
      "3.14\n"
     ]
    }
   ],
   "source": [
    "num1 = 3.14159\n",
    "print('{:.2f}'.format(num1))"
   ]
  },
  {
   "cell_type": "code",
   "execution_count": null,
   "id": "482e818d",
   "metadata": {},
   "outputs": [],
   "source": []
  }
 ],
 "metadata": {
  "kernelspec": {
   "display_name": "Python 3 (ipykernel)",
   "language": "python",
   "name": "python3"
  },
  "language_info": {
   "codemirror_mode": {
    "name": "ipython",
    "version": 3
   },
   "file_extension": ".py",
   "mimetype": "text/x-python",
   "name": "python",
   "nbconvert_exporter": "python",
   "pygments_lexer": "ipython3",
   "version": "3.9.13"
  }
 },
 "nbformat": 4,
 "nbformat_minor": 5
}
