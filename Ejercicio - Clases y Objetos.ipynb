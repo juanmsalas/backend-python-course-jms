{
 "cells": [
  {
   "cell_type": "code",
   "execution_count": 2,
   "id": "a9f9b0f9",
   "metadata": {},
   "outputs": [],
   "source": [
    "class Kayak:\n",
    "    brand = \"Ocean Kayak\"\n",
    "    material = \"Single Layer Polyethylene\"\n",
    "    length = \"12 ft.\"\n",
    "    \n",
    "    def __init__(self):\n",
    "        print(\"Inicialización de la súper clase\")\n",
    "    def styles(self):\n",
    "        print(\"Kayak class styles method\")\n",
    "    def activities(self):\n",
    "        print(\"Kayak class activities method\")\n",
    "    def water_types(self):\n",
    "        pass\n",
    "    def features(self):\n",
    "        print(\"Kayak class features method\")\n",
    "\n",
    "class PaddleKayak(Kayak):\n",
    "    model = \"\"\n",
    "    capacity = \"\"\n",
    "    style = \"\"\n",
    "    activity = \"\"\n",
    "    \n",
    "    def __init__(self):\n",
    "        print(\"Inicialización de la sub clase\")\n",
    "    def available_colors(self):\n",
    "        print(\"PaddleKayak subclass available_colors method\")"
   ]
  },
  {
   "cell_type": "code",
   "execution_count": 5,
   "id": "d7d8b0dc",
   "metadata": {},
   "outputs": [
    {
     "name": "stdout",
     "output_type": "stream",
     "text": [
      "Inicialización de la súper clase\n",
      "Ocean Kayak\n",
      "Single Layer Polyethylene\n",
      "12 ft.\n",
      "Kayak class styles method\n",
      "Kayak class activities method\n"
     ]
    }
   ],
   "source": [
    "ockayak = Kayak()\n",
    "print(ockayak.brand)\n",
    "print(ockayak.material)\n",
    "print(ockayak.length)\n",
    "ockayak.styles()\n",
    "ockayak.activities()\n",
    "ockayak.water_types()"
   ]
  },
  {
   "cell_type": "code",
   "execution_count": 6,
   "id": "3ab8b5ce",
   "metadata": {},
   "outputs": [
    {
     "name": "stdout",
     "output_type": "stream",
     "text": [
      "Inicialización de la sub clase\n",
      "Malibu\n",
      "1\n",
      "Sit-on-Top\n",
      "Recreation\n",
      "PaddleKayak subclass available_colors method\n"
     ]
    }
   ],
   "source": [
    "malibu = PaddleKayak()\n",
    "malibu.model = \"Malibu\"\n",
    "malibu.capacity = 1\n",
    "malibu.style = \"Sit-on-Top\"\n",
    "malibu.activity = \"Recreation\"\n",
    "print(malibu.model)\n",
    "print(malibu.capacity)\n",
    "print(malibu.style)\n",
    "print(malibu.activity)\n",
    "malibu.available_colors()"
   ]
  },
  {
   "cell_type": "code",
   "execution_count": null,
   "id": "dd3e1da5",
   "metadata": {},
   "outputs": [],
   "source": []
  }
 ],
 "metadata": {
  "kernelspec": {
   "display_name": "Python 3 (ipykernel)",
   "language": "python",
   "name": "python3"
  },
  "language_info": {
   "codemirror_mode": {
    "name": "ipython",
    "version": 3
   },
   "file_extension": ".py",
   "mimetype": "text/x-python",
   "name": "python",
   "nbconvert_exporter": "python",
   "pygments_lexer": "ipython3",
   "version": "3.9.13"
  }
 },
 "nbformat": 4,
 "nbformat_minor": 5
}
