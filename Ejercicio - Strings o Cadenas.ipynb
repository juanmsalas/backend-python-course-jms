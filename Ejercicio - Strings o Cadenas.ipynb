{
 "cells": [
  {
   "cell_type": "code",
   "execution_count": 70,
   "id": "69bc77d5",
   "metadata": {},
   "outputs": [
    {
     "name": "stdout",
     "output_type": "stream",
     "text": [
      "Positive:  buenísima\n",
      "Positive:  la recomiendo\n",
      "Analizador de sentimientos\n",
      "\n",
      "my_string: \n",
      "está buenísima la película, la recomiendo ampliamente.\n",
      "\n",
      "score: 2 \n",
      "resultado: Positivo\n"
     ]
    }
   ],
   "source": [
    "my_string_1 = \"\"\"\n",
    "Está buenísima la película, la recomiendo ampliamente.\n",
    "\"\"\"\n",
    "positive_words = [\"bueno\",\"buenísimo\", \"bonito\", \"excelente\", \"maravilloso\", \"grandioso\",  \"perfecto\", \"genial\", \"atractivo\", \"agradable\", \"encantó\", \"gustó mucho\", \"es muy útil\", \"lo recomiendo\"]\n",
    "negative_words = [\"defectuoso\", \"malo\", \"horrible\", \"desagradable\", \"lo peor\", \"no me gustó\", \"pésimo\", \"reemplazo\", \"no es muy útil\", \"no lo recomiendo\", \"no volvería\", \"nunca volvería\"]\n",
    "score = 0\n",
    "\n",
    "def positive_word_list(positive_word):\n",
    "    positive_list = []\n",
    "    if my_string_1.count(\"nada {}\".format(positive_word)) + my_string_1.count(\"no {}\".format(positive_word)) + my_string_1.count(\"no {}\".format(positive_word.replace(\"lo\", \"la\"))) == 0:\n",
    "        positive_list.append(positive_word)\n",
    "        if positive_word.endswith(\"o\"):\n",
    "            positive_list.append(\"{}a\".format(positive_word[0:len(positive_word)-1]))\n",
    "        if (\"lo\" in positive_word):\n",
    "            positive_list.append(positive_word.replace(\"lo\", \"la\"))\n",
    "    return positive_list\n",
    "\n",
    "def negative_word_list(negative_word):\n",
    "    negative_list = []\n",
    "    negative_list.append(negative_word)\n",
    "    if negative_word.endswith(\"o\"):\n",
    "        negative_list.append(\"{}a\".format(negative_word[0:len(negative_word)-1]))\n",
    "    if (\"lo\" in negative_word):\n",
    "            negative_list.append(negative_word.replace(\"lo\", \"la\"))\n",
    "    return negative_list\n",
    "\n",
    "my_string_1 = my_string_1.lower()\n",
    "\n",
    "for positive_word in positive_words:\n",
    "    positive_list = positive_word_list(positive_word)\n",
    "    for positive_word_2 in positive_list:\n",
    "        score = score + my_string_1.count(positive_word_2)\n",
    "        #if my_string_1.count(positive_word_2) > 0: print(\"Positive: \",positive_word_2)\n",
    "        \n",
    "for negative_word in negative_words:\n",
    "    negative_list = negative_word_list(negative_word)\n",
    "    for negative_word_2 in negative_list:\n",
    "        score = score - my_string_1.count(negative_word_2)\n",
    "        #if my_string_1.count(negative_word_2) > 0: print(\"Negative: \",negative_word_2)\n",
    "\n",
    "    \n",
    "if score == 0:\n",
    "    result = \"Neutro\"\n",
    "if score > 0:\n",
    "    result = \"Positivo\"\n",
    "if score < 0:\n",
    "    result = \"Negativo\"\n",
    "    \n",
    "print(\"Analizador de sentimientos\\n\")\n",
    "print(\"my_string: {}\\nscore: {} \\nresultado: {}\".format(my_string_1, score, result))"
   ]
  },
  {
   "cell_type": "code",
   "execution_count": null,
   "id": "05ad9679",
   "metadata": {},
   "outputs": [],
   "source": []
  }
 ],
 "metadata": {
  "kernelspec": {
   "display_name": "Python 3 (ipykernel)",
   "language": "python",
   "name": "python3"
  },
  "language_info": {
   "codemirror_mode": {
    "name": "ipython",
    "version": 3
   },
   "file_extension": ".py",
   "mimetype": "text/x-python",
   "name": "python",
   "nbconvert_exporter": "python",
   "pygments_lexer": "ipython3",
   "version": "3.9.13"
  }
 },
 "nbformat": 4,
 "nbformat_minor": 5
}
