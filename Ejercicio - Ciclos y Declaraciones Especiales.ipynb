{
 "cells": [
  {
   "cell_type": "code",
   "execution_count": 24,
   "id": "c32ddfc4",
   "metadata": {},
   "outputs": [
    {
     "name": "stdout",
     "output_type": "stream",
     "text": [
      "00:00\r",
      "00:00 stop\n"
     ]
    }
   ],
   "source": [
    "import time\n",
    "\n",
    "def countup(time_sec):\n",
    "    counter = 0\n",
    "    \n",
    "    while counter <= time_sec:\n",
    "        mins, secs = divmod(counter, 60)\n",
    "        timeformat = '{:02d}:{:02d}'.format(mins, secs)\n",
    "        print(timeformat, end='\\r')\n",
    "        if counter == time_sec:\n",
    "            break\n",
    "        time.sleep(1)\n",
    "        counter += 1\n",
    "    print(timeformat,\"stop\")\n",
    "    \n",
    "countup(0)"
   ]
  },
  {
   "cell_type": "code",
   "execution_count": null,
   "id": "188d1b3d",
   "metadata": {},
   "outputs": [],
   "source": []
  },
  {
   "cell_type": "code",
   "execution_count": null,
   "id": "76f0ee77",
   "metadata": {},
   "outputs": [],
   "source": []
  }
 ],
 "metadata": {
  "kernelspec": {
   "display_name": "Python 3 (ipykernel)",
   "language": "python",
   "name": "python3"
  },
  "language_info": {
   "codemirror_mode": {
    "name": "ipython",
    "version": 3
   },
   "file_extension": ".py",
   "mimetype": "text/x-python",
   "name": "python",
   "nbconvert_exporter": "python",
   "pygments_lexer": "ipython3",
   "version": "3.9.13"
  }
 },
 "nbformat": 4,
 "nbformat_minor": 5
}
