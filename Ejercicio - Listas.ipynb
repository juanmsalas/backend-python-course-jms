{
 "cells": [
  {
   "cell_type": "code",
   "execution_count": 39,
   "id": "21fd3ea6",
   "metadata": {},
   "outputs": [
    {
     "name": "stdout",
     "output_type": "stream",
     "text": [
      "Carrito de compras\n",
      "\n",
      "Productos Disponibles:\n",
      "\n",
      "1.- Pan blanco\n",
      "2.- Pan para hotdog\n",
      "3.- Jamón\n",
      "4.- Salchicha\n",
      "5.- Crema\n",
      "6.- Mayonesa\n",
      "7.- Mostaza\n",
      "8.- Catsup\n",
      "9.- Lechuga\n",
      "10.- Tomate\n",
      "11.- Cebolla\n",
      "\n",
      "\n",
      "Ingresa una lista con los productos en este formato: [[Cantidad,Producto]]\n",
      "Por ejemplo: [[1,1], [3,2]] significa 1 Pan y 3 Jamón: [[1,1], [1,2], [1,3], [1,4], [1,5], [1,6], [1,7], [1,8], [1,9], [1,10], [1,11]]\n",
      "\n",
      "\n",
      "\n",
      "Tu carrito es:\n",
      "1 Pan blanco\n",
      "1 Pan para hotdog\n",
      "1 Jamón\n",
      "1 Salchicha\n",
      "1 Crema\n",
      "1 Mayonesa\n",
      "1 Mostaza\n",
      "1 Catsup\n",
      "1 Lechuga\n",
      "1 Tomate\n",
      "1 Cebolla\n"
     ]
    }
   ],
   "source": [
    "def get_type(input_data):\n",
    "    try:\n",
    "        return type(literal_eval(input_data))\n",
    "    except (ValueError, SyntaxError):\n",
    "        return str\n",
    "    \n",
    "product_list = [\"Pan blanco\", \"Pan para hotdog\", \"Jamón\", \"Salchicha\", \"Crema\", \"Mayonesa\", \"Mostaza\", \"Catsup\", \"Lechuga\", \"Tomate\", \"Cebolla\"]\n",
    "    \n",
    "print(\"Carrito de compras\\n\")\n",
    "print(\"Productos Disponibles:\\n\")\n",
    "\n",
    "for prod in product_list:\n",
    "    print(\"{}.- {}\".format(product_list.index(prod)+1, prod))\n",
    "print(\"\\n\")\n",
    "\n",
    "my_shopping_cart = input(\"Ingresa una lista con los productos en este formato: [[Cantidad,Producto]]\\nPor ejemplo: [[1,1], [3,2]] significa 1 Pan y 3 Jamón: \")\n",
    "print(\"\\n\")\n",
    "\n",
    "if get_type(my_shopping_cart) != list:\n",
    "    print((\"Formato incorrecto, debes ingresar una lista de listas como en el ejemplo ( \\\"[[1,1], [3,2]]\\\" ).\"))\n",
    "else:\n",
    "    my_shopping_cart = eval(my_shopping_cart)\n",
    "    \n",
    "    print(\"\\nTu carrito es:\")\n",
    "\n",
    "    for element in my_shopping_cart:\n",
    "        if type(element) == list:\n",
    "            product = product_list[element[1]-1]\n",
    "            print(\"{} {}\".format(element[0], product))\n",
    "        else:\n",
    "            print(\"Formato incorrecto, debes ingresar una lista de listas como en el ejemplo.\")\n",
    "            break"
   ]
  },
  {
   "cell_type": "code",
   "execution_count": null,
   "id": "605154d5",
   "metadata": {},
   "outputs": [],
   "source": []
  }
 ],
 "metadata": {
  "kernelspec": {
   "display_name": "Python 3 (ipykernel)",
   "language": "python",
   "name": "python3"
  },
  "language_info": {
   "codemirror_mode": {
    "name": "ipython",
    "version": 3
   },
   "file_extension": ".py",
   "mimetype": "text/x-python",
   "name": "python",
   "nbconvert_exporter": "python",
   "pygments_lexer": "ipython3",
   "version": "3.9.13"
  }
 },
 "nbformat": 4,
 "nbformat_minor": 5
}
